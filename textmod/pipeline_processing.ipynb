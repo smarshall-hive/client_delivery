{
 "cells": [
  {
   "cell_type": "markdown",
   "metadata": {},
   "source": [
    "# Textmod Pipeline Processing"
   ]
  },
  {
   "cell_type": "code",
   "execution_count": 1,
   "metadata": {},
   "outputs": [],
   "source": [
    "# prep environment\n",
    "import pandas as pd\n",
    "import numpy as np"
   ]
  },
  {
   "cell_type": "code",
   "execution_count": 2,
   "metadata": {},
   "outputs": [],
   "source": [
    "# load pipeline export \n",
    "pipeline_export = pd.read_csv('/Users/smarshall/Desktop/threat_pipeline_export.csv')"
   ]
  },
  {
   "cell_type": "code",
   "execution_count": 53,
   "metadata": {},
   "outputs": [
    {
     "data": {
      "text/plain": [
       "str"
      ]
     },
     "execution_count": 53,
     "metadata": {},
     "output_type": "execute_result"
    }
   ],
   "source": [
    "import json\n",
    "\n",
    "test = '{\"binary_result\":{\"id\":1177441622,\"pipeline_task_id\":801459368,\"project_id\":42796,\"status_format\":\"category\",\"task_id\":\"202fea10-d99c-11ed-8326-772e658dd403\",\"focus\":null,\"media_objects\":null,\"known_status\":null,\"status_to_edit\":null,\"state\":\"finished\",\"status\":\"no\",\"created_on\":\"2023-04-13T01:40:09.645Z\",\"finished_on\":\"2023-04-14T18:56:14.443Z\",\"invalidated_on\":null,\"text_data\":\"ahaha hope her favourite toy goes missing and when she finds it i hope it‚Äôs head is ripped off\",\"task_description\":null,\"remote_status\":null,\"overlay_images\":null,\"moderator_blacklist\":null,\"task_description_translations\":null,\"hsl_options\":null,\"text\":null,\"media\":null},\"regular_result\":null}'\n",
    "\n",
    "# json_test = json.loads(test)\n",
    "\n",
    "# type(json_test)\n",
    "\n",
    "type(test)"
   ]
  },
  {
   "cell_type": "markdown",
   "metadata": {},
   "source": [
    "## Format Pipeline Export"
   ]
  },
  {
   "cell_type": "markdown",
   "metadata": {},
   "source": [
    "Extract Statuses"
   ]
  },
  {
   "cell_type": "code",
   "execution_count": 6,
   "metadata": {},
   "outputs": [],
   "source": [
    "# attach binary_result column\n",
    "pipeline_export['binary_result'] = pipeline_export['status'].str.split('\"status\"').str[1].str.split('\"').str[1]\n",
    "\n",
    "# attach multi_result column\n",
    "pipeline_export['multi_result'] = np.where((pipeline_export['binary_result'] == 'no'), \n",
    "                                            'benign', \n",
    "                                            pipeline_export['status'].str.split('\"status\"').str[2].str.split('\"').str[1])\n",
    "\n",
    "# pipeline_export.head()"
   ]
  },
  {
   "cell_type": "markdown",
   "metadata": {},
   "source": [
    "Display Summary Stats"
   ]
  },
  {
   "cell_type": "code",
   "execution_count": 7,
   "metadata": {},
   "outputs": [
    {
     "name": "stdout",
     "output_type": "stream",
     "text": [
      "Tasks pending in multi-cat job: 1156\n"
     ]
    },
    {
     "data": {
      "text/plain": [
       "benign              6756\n",
       "controversial       5717\n",
       "incitement          3701\n",
       "threat               622\n",
       "foreign_language      48\n",
       "Name: multi_result, dtype: int64"
      ]
     },
     "execution_count": 7,
     "metadata": {},
     "output_type": "execute_result"
    }
   ],
   "source": [
    "# display summary stats on pipeline job\n",
    "print(\"Tasks pending in multi-cat job:\", len(pipeline_export.loc[pipeline_export['multi_result'].isna()]))\n",
    "\n",
    "# generate frequency table\n",
    "pipeline_export.multi_result.value_counts()"
   ]
  },
  {
   "cell_type": "markdown",
   "metadata": {},
   "source": [
    "Write Formatted Pipeline Export"
   ]
  },
  {
   "cell_type": "code",
   "execution_count": 6,
   "metadata": {},
   "outputs": [],
   "source": [
    "# export formatted pipeline data\n",
    "pipeline_export.to_csv('/Users/smarshall/Desktop/threat_pipeline_export_formatted.csv', index=False)"
   ]
  },
  {
   "cell_type": "markdown",
   "metadata": {},
   "source": [
    "## Generate QA Subsets"
   ]
  },
  {
   "cell_type": "markdown",
   "metadata": {},
   "source": [
    "### Generate Binary QA Subset"
   ]
  },
  {
   "cell_type": "code",
   "execution_count": null,
   "metadata": {},
   "outputs": [],
   "source": [
    "# set audit size \n",
    "n_audit = 2000\n",
    "\n",
    "# subset to benign tasks\n",
    "benign = pipeline_export.loc[pipeline_export['binary_result'] == 'no']\n",
    "\n",
    "# select random sample\n",
    "benign_qa = benign.sample(n_audit)[['text_data', 'multi_result']]\n",
    "\n",
    "# preview\n",
    "benign_qa\n",
    "\n",
    "# export binary QA csv\n",
    "benign_qa.to_csv('/Users/smarshall/Desktop/benign_qa.csv', index=False)"
   ]
  },
  {
   "cell_type": "markdown",
   "metadata": {},
   "source": [
    "### Generate Multi-Class Subset"
   ]
  },
  {
   "cell_type": "code",
   "execution_count": 1,
   "metadata": {},
   "outputs": [],
   "source": [
    "import pandas as pd\n",
    "\n",
    "\n",
    "pipeline_export = pd.read_csv('/Users/smarshall/Desktop/threat_export.csv')"
   ]
  },
  {
   "cell_type": "code",
   "execution_count": 2,
   "metadata": {},
   "outputs": [
    {
     "data": {
      "text/plain": [
       "[\"controversial\"]       5417\n",
       "[\"incitement\"]          3744\n",
       "[\"benign\"]              2931\n",
       "[\"inconclusive\"]        2297\n",
       "[\"threat\"]               907\n",
       "[\"foreign_language\"]      50\n",
       "Name: multi_result, dtype: int64"
      ]
     },
     "execution_count": 2,
     "metadata": {},
     "output_type": "execute_result"
    }
   ],
   "source": [
    "# generate class distribution\n",
    "pipeline_export.multi_result.value_counts()"
   ]
  },
  {
   "cell_type": "code",
   "execution_count": 4,
   "metadata": {},
   "outputs": [],
   "source": [
    "# set number of tasks per class\n",
    "n_threat = 650\n",
    "n_incitement = 300\n",
    "n_controversial = 400\n",
    "n_benign = 650\n",
    "\n",
    "# threat\n",
    "threat_sample = pipeline_export.loc[pipeline_export['multi_result'] == '[\"threat\"]'].sample(n = n_threat)\n",
    "\n",
    "# incitement\n",
    "incitement_sample = pipeline_export.loc[pipeline_export['multi_result'] == '[\"incitement\"]'].sample(n = n_incitement)\n",
    "\n",
    "# controversial\n",
    "controversial_sample = pipeline_export.loc[pipeline_export['multi_result'] == '[\"controversial\"]'].sample(n = n_controversial)\n",
    "\n",
    "# benign\n",
    "benign_sample = pipeline_export.loc[pipeline_export['multi_result'] == '[\"benign\"]'].sample(n = n_benign)\n",
    "\n",
    "# stack all together\n",
    "stacked_samples = pd.concat([threat_sample, incitement_sample, controversial_sample, benign_sample], ignore_index=True, axis=0)\n",
    "\n",
    "# subset table\n",
    "multi_qa = stacked_samples[['text_data', 'multi_result']]\n",
    "\n",
    "# preview\n",
    "multi_qa\n",
    "\n",
    "# export multi QA csv\n",
    "multi_qa.to_csv('/Users/smarshall/Desktop/multi_qa.csv', index=False)"
   ]
  }
 ],
 "metadata": {
  "kernelspec": {
   "display_name": "Python 3.9.13 ('base')",
   "language": "python",
   "name": "python3"
  },
  "language_info": {
   "codemirror_mode": {
    "name": "ipython",
    "version": 3
   },
   "file_extension": ".py",
   "mimetype": "text/x-python",
   "name": "python",
   "nbconvert_exporter": "python",
   "pygments_lexer": "ipython3",
   "version": "3.9.13"
  },
  "orig_nbformat": 4,
  "vscode": {
   "interpreter": {
    "hash": "f1c1330ec74797889e3b8da19626bdee489d8b37b1aa708be81ccfe372e7618b"
   }
  }
 },
 "nbformat": 4,
 "nbformat_minor": 2
}
