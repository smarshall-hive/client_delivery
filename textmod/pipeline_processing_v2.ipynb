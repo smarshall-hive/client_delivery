{
 "cells": [
  {
   "cell_type": "code",
   "execution_count": 1,
   "metadata": {},
   "outputs": [],
   "source": [
    "import pandas as pd\n",
    "\n",
    "pipeline_export = pd.read_csv('/Users/smarshall/Desktop/threat_pipeline_export.csv')"
   ]
  },
  {
   "cell_type": "code",
   "execution_count": 2,
   "metadata": {},
   "outputs": [],
   "source": [
    "pipeline_export['json_status'] = pipeline_export['status'].str[1:-1]\n",
    "\n",
    "dropped_nas = pipeline_export[pipeline_export['status'].notna()]"
   ]
  },
  {
   "cell_type": "code",
   "execution_count": 8,
   "metadata": {},
   "outputs": [],
   "source": [
    "import json\n",
    "\n",
    "def convert_json(my_table):\n",
    "    shell_df = pd.DataFrame()\n",
    "    for i in range(len(my_table)):\n",
    "        extracted_value = my_table.iloc[i]['json_status']\n",
    "        json_value = json.loads(extracted_value)\n",
    "        normalized_value = pd.json_normalize(json_value)\n",
    "        shell_df = pd.concat([shell_df, normalized_value])\n",
    "    # sub_shell = shell_df[['binary_result.pipeline_task_id', 'binary_result.task_id', 'regular_result.task_id', 'binary_result.text_data','binary_result.status', 'regular_result.status']]\n",
    "    # sub_shell.columns = ['pipeline_task_id', 'binary_task_id', 'multi_task_id', 'text_data', 'binary_result', 'multi_result']\n",
    "    return shell_df\n"
   ]
  },
  {
   "cell_type": "code",
   "execution_count": 16,
   "metadata": {},
   "outputs": [],
   "source": [
    "def convert_json_dfs(my_table):\n",
    "    def normalize_json(row):\n",
    "        json_value = pd.json_normalize(row['json_status'])\n",
    "        return json_value\n",
    "        \n",
    "    dfs = my_table.apply(normalize_json, axis=1)\n",
    "    shell_df = pd.concat(dfs, ignore_index=True)\n",
    "    return shell_df"
   ]
  },
  {
   "cell_type": "code",
   "execution_count": 9,
   "metadata": {},
   "outputs": [],
   "source": [
    "try1 = convert_json(dropped_nas)"
   ]
  },
  {
   "cell_type": "code",
   "execution_count": null,
   "metadata": {},
   "outputs": [],
   "source": [
    "new_fuunc = convert_json_dfs(dropped_nas)"
   ]
  },
  {
   "cell_type": "code",
   "execution_count": null,
   "metadata": {},
   "outputs": [],
   "source": [
    "# merge \n",
    "merged_with_callback = pd.merge(try1, pipeline_export[['callback_metadata', 'text_data']], how = 'left', on='text_data')\n",
    "\n",
    "merged_with_callback['duped'] = merged_with_callback.duplicated(subset=['pipeline_task_id'])\n",
    "\n",
    "merged_with_callback.loc[merged_with_callback['duped'] == True]"
   ]
  }
 ],
 "metadata": {
  "kernelspec": {
   "display_name": "Python 3.9.13 ('base')",
   "language": "python",
   "name": "python3"
  },
  "language_info": {
   "codemirror_mode": {
    "name": "ipython",
    "version": 3
   },
   "file_extension": ".py",
   "mimetype": "text/x-python",
   "name": "python",
   "nbconvert_exporter": "python",
   "pygments_lexer": "ipython3",
   "version": "3.9.13"
  },
  "orig_nbformat": 4,
  "vscode": {
   "interpreter": {
    "hash": "f1c1330ec74797889e3b8da19626bdee489d8b37b1aa708be81ccfe372e7618b"
   }
  }
 },
 "nbformat": 4,
 "nbformat_minor": 2
}
