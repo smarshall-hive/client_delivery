{
 "cells": [
  {
   "cell_type": "code",
   "execution_count": 2,
   "metadata": {},
   "outputs": [],
   "source": [
    "# import packages\n",
    "import pandas as pd \n",
    "import numpy as np "
   ]
  },
  {
   "cell_type": "markdown",
   "metadata": {},
   "source": [
    "Load Data"
   ]
  },
  {
   "cell_type": "code",
   "execution_count": 6,
   "metadata": {},
   "outputs": [],
   "source": [
    "# load exports\n",
    "pipeline_no_status = pd.read_csv('/Users/smarshall/Desktop/threat_pipeline_export.csv')\n",
    "multiclass_status  = pd.read_csv('/Users/smarshall/Desktop/multiclass_status_export.csv')\n",
    "binary_status      = pd.read_csv('/Users/smarshall/Desktop/binary_status_export.csv')"
   ]
  },
  {
   "cell_type": "markdown",
   "metadata": {},
   "source": [
    "Clean Pipeline Export"
   ]
  },
  {
   "cell_type": "code",
   "execution_count": null,
   "metadata": {},
   "outputs": [],
   "source": [
    "# attach binary_result column\n",
    "pipeline_no_status['binary_result'] = pipeline_no_status['status'].str.split('\"status\"').str[1].str.split('\"').str[1]\n",
    "\n",
    "# attach multi_result column\n",
    "pipeline_no_status['with_retries_status'] = np.where((pipeline_no_status['binary_result'] == 'no'), \n",
    "                                                      'benign', \n",
    "                                                       pipeline_no_status['status'].str.split('\"status\"').str[2].str.split('\"').str[1])\n",
    "\n",
    "# pipeline_no_status.head()"
   ]
  },
  {
   "cell_type": "markdown",
   "metadata": {},
   "source": [
    "Clean Binary Export"
   ]
  },
  {
   "cell_type": "code",
   "execution_count": null,
   "metadata": {},
   "outputs": [],
   "source": [
    "# binary_status\n",
    "\n",
    "# parse out pipeline task id \n",
    "binary_status['pipeline_task_id'] = binary_status['callback_metadata'].str.split('\"').str[9]\n",
    "\n",
    "# # subset to cols of interest\n",
    "# sub_binary_status = binary_status[['pipeline_task_id', 'finished_on', 'text_data']]\n",
    "\n",
    "# # test = '{\"pipeline_project_id\":43829,\"pipeline_task_id\":800724706,\"action_id\":1176598244,\"task_id\":\"fe289310-cf62-11ed-9bb9-6d0168d80d54\"}'\n",
    "\n",
    "# # test.split('\"')[9]\n",
    "\n",
    "binary_status.head()\n"
   ]
  },
  {
   "cell_type": "markdown",
   "metadata": {},
   "source": [
    "Clean Multiclass Export"
   ]
  },
  {
   "cell_type": "code",
   "execution_count": null,
   "metadata": {},
   "outputs": [],
   "source": [
    "# parse out pipeline task id \n",
    "multiclass_status['pipeline_task_id'] = multiclass_status['callback_metadata'].str.split('\"').str[9]\n",
    "\n",
    "# subset to cols of interest\n",
    "sub_multiclass_status = multiclass_status[['finished_on', 'statuses', 'pipeline_task_id']]\n",
    "\n",
    "# select which status to keep\n",
    "sub_multiclass_status['retried_task'] = np.where(sub_multiclass_status.duplicated('pipeline_task_id'), 1, 0)\n",
    "\n",
    "sub_multiclass_status['finished_on'] = pd.to_datetime(sub_multiclass_status['finished_on'])\n",
    "# sub_multiclass_status.head()"
   ]
  },
  {
   "cell_type": "markdown",
   "metadata": {},
   "source": [
    "Merge Tables"
   ]
  },
  {
   "cell_type": "markdown",
   "metadata": {},
   "source": []
  },
  {
   "cell_type": "code",
   "execution_count": 40,
   "metadata": {},
   "outputs": [
    {
     "data": {
      "text/html": [
       "<div>\n",
       "<style scoped>\n",
       "    .dataframe tbody tr th:only-of-type {\n",
       "        vertical-align: middle;\n",
       "    }\n",
       "\n",
       "    .dataframe tbody tr th {\n",
       "        vertical-align: top;\n",
       "    }\n",
       "\n",
       "    .dataframe thead th {\n",
       "        text-align: right;\n",
       "    }\n",
       "</style>\n",
       "<table border=\"1\" class=\"dataframe\">\n",
       "  <thead>\n",
       "    <tr style=\"text-align: right;\">\n",
       "      <th></th>\n",
       "      <th>pipeline_task_id</th>\n",
       "      <th>with_retries_status</th>\n",
       "      <th>text_data</th>\n",
       "      <th>no_retries_status</th>\n",
       "    </tr>\n",
       "  </thead>\n",
       "  <tbody>\n",
       "    <tr>\n",
       "      <th>5</th>\n",
       "      <td>fe286c01-cf62-11ed-9bb9-6d0168d80d54</td>\n",
       "      <td>controversial</td>\n",
       "      <td>Classic arabs, all orchestrated! Look at the b...</td>\n",
       "      <td>[\"AAAA\"]</td>\n",
       "    </tr>\n",
       "    <tr>\n",
       "      <th>7</th>\n",
       "      <td>fe289311-cf62-11ed-9bb9-6d0168d80d54</td>\n",
       "      <td>controversial</td>\n",
       "      <td>Amen I’m routing for President Putin. Take the...</td>\n",
       "      <td>[\"AAAA\"]</td>\n",
       "    </tr>\n",
       "    <tr>\n",
       "      <th>8</th>\n",
       "      <td>fe28ba20-cf62-11ed-9bb9-6d0168d80d54</td>\n",
       "      <td>controversial</td>\n",
       "      <td>But us true Americans will fight back……. And w...</td>\n",
       "      <td>[\"AAAA\"]</td>\n",
       "    </tr>\n",
       "    <tr>\n",
       "      <th>24</th>\n",
       "      <td>fe29f2a1-cf62-11ed-9bb9-6d0168d80d54</td>\n",
       "      <td>incitement</td>\n",
       "      <td>Nowhere you fucks! Go to streets, burn everyth...</td>\n",
       "      <td>[\"AAAA\"]</td>\n",
       "    </tr>\n",
       "    <tr>\n",
       "      <th>28</th>\n",
       "      <td>fe2a40c1-cf62-11ed-9bb9-6d0168d80d54</td>\n",
       "      <td>controversial</td>\n",
       "      <td>Purge time for the evil communist democrats an...</td>\n",
       "      <td>[\"AAAA\"]</td>\n",
       "    </tr>\n",
       "    <tr>\n",
       "      <th>...</th>\n",
       "      <td>...</td>\n",
       "      <td>...</td>\n",
       "      <td>...</td>\n",
       "      <td>...</td>\n",
       "    </tr>\n",
       "    <tr>\n",
       "      <th>15974</th>\n",
       "      <td>062344c1-cf63-11ed-9bb9-6d0168d80d54</td>\n",
       "      <td>controversial</td>\n",
       "      <td>Aim with this little bastard on russian villag...</td>\n",
       "      <td>[\"AAAA\"]</td>\n",
       "    </tr>\n",
       "    <tr>\n",
       "      <th>15980</th>\n",
       "      <td>062344c7-cf63-11ed-9bb9-6d0168d80d54</td>\n",
       "      <td>controversial</td>\n",
       "      <td>Hope she slaps the sh$t out of him</td>\n",
       "      <td>[\"AAAA\"]</td>\n",
       "    </tr>\n",
       "    <tr>\n",
       "      <th>15984</th>\n",
       "      <td>062344cb-cf63-11ed-9bb9-6d0168d80d54</td>\n",
       "      <td>benign</td>\n",
       "      <td>I mean they're both sorta playmakers, in a way...</td>\n",
       "      <td>[\"AAAA\"]</td>\n",
       "    </tr>\n",
       "    <tr>\n",
       "      <th>15988</th>\n",
       "      <td>062344cf-cf63-11ed-9bb9-6d0168d80d54</td>\n",
       "      <td>incitement</td>\n",
       "      <td>At this point, I'm also hoping noone has to nu...</td>\n",
       "      <td>[\"AAAA\"]</td>\n",
       "    </tr>\n",
       "    <tr>\n",
       "      <th>15997</th>\n",
       "      <td>062344d8-cf63-11ed-9bb9-6d0168d80d54</td>\n",
       "      <td>threat</td>\n",
       "      <td>https://www.gettr.com/post/p6nb5t hunt the pedos!</td>\n",
       "      <td>[\"AAAA\"]</td>\n",
       "    </tr>\n",
       "  </tbody>\n",
       "</table>\n",
       "<p>2500 rows × 4 columns</p>\n",
       "</div>"
      ],
      "text/plain": [
       "                           pipeline_task_id with_retries_status  \\\n",
       "5      fe286c01-cf62-11ed-9bb9-6d0168d80d54       controversial   \n",
       "7      fe289311-cf62-11ed-9bb9-6d0168d80d54       controversial   \n",
       "8      fe28ba20-cf62-11ed-9bb9-6d0168d80d54       controversial   \n",
       "24     fe29f2a1-cf62-11ed-9bb9-6d0168d80d54          incitement   \n",
       "28     fe2a40c1-cf62-11ed-9bb9-6d0168d80d54       controversial   \n",
       "...                                     ...                 ...   \n",
       "15974  062344c1-cf63-11ed-9bb9-6d0168d80d54       controversial   \n",
       "15980  062344c7-cf63-11ed-9bb9-6d0168d80d54       controversial   \n",
       "15984  062344cb-cf63-11ed-9bb9-6d0168d80d54              benign   \n",
       "15988  062344cf-cf63-11ed-9bb9-6d0168d80d54          incitement   \n",
       "15997  062344d8-cf63-11ed-9bb9-6d0168d80d54              threat   \n",
       "\n",
       "                                               text_data no_retries_status  \n",
       "5      Classic arabs, all orchestrated! Look at the b...          [\"AAAA\"]  \n",
       "7      Amen I’m routing for President Putin. Take the...          [\"AAAA\"]  \n",
       "8      But us true Americans will fight back……. And w...          [\"AAAA\"]  \n",
       "24     Nowhere you fucks! Go to streets, burn everyth...          [\"AAAA\"]  \n",
       "28     Purge time for the evil communist democrats an...          [\"AAAA\"]  \n",
       "...                                                  ...               ...  \n",
       "15974  Aim with this little bastard on russian villag...          [\"AAAA\"]  \n",
       "15980                 Hope she slaps the sh$t out of him          [\"AAAA\"]  \n",
       "15984  I mean they're both sorta playmakers, in a way...          [\"AAAA\"]  \n",
       "15988  At this point, I'm also hoping noone has to nu...          [\"AAAA\"]  \n",
       "15997  https://www.gettr.com/post/p6nb5t hunt the pedos!          [\"AAAA\"]  \n",
       "\n",
       "[2500 rows x 4 columns]"
      ]
     },
     "execution_count": 40,
     "metadata": {},
     "output_type": "execute_result"
    }
   ],
   "source": [
    "# merge tables\n",
    "merged_table = sub_pipeline.merge(sub_cristen, how='left', on='pipeline_task_id')\n",
    "\n",
    "# create da subset\n",
    "da_subset = merged_table[(merged_table.no_retries_status == '[\"AAAA\"]') & (merged_table.with_retries_status != 'inconclusive')]"
   ]
  },
  {
   "cell_type": "markdown",
   "metadata": {},
   "source": [
    "Export "
   ]
  },
  {
   "cell_type": "code",
   "execution_count": 41,
   "metadata": {},
   "outputs": [],
   "source": [
    "da_subset.to_csv('/Users/smarshall/Desktop/threat_da_inconclusive_audit.csv', index=False)"
   ]
  }
 ],
 "metadata": {
  "kernelspec": {
   "display_name": "Python 3.9.13 ('base')",
   "language": "python",
   "name": "python3"
  },
  "language_info": {
   "codemirror_mode": {
    "name": "ipython",
    "version": 3
   },
   "file_extension": ".py",
   "mimetype": "text/x-python",
   "name": "python",
   "nbconvert_exporter": "python",
   "pygments_lexer": "ipython3",
   "version": "3.9.13"
  },
  "orig_nbformat": 4,
  "vscode": {
   "interpreter": {
    "hash": "f1c1330ec74797889e3b8da19626bdee489d8b37b1aa708be81ccfe372e7618b"
   }
  }
 },
 "nbformat": 4,
 "nbformat_minor": 2
}
