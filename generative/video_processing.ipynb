{
 "cells": [
  {
   "cell_type": "markdown",
   "metadata": {},
   "source": [
    "# Generative Video Caption Processing\n",
    "- Set date, input directory, and output directory parameters\n",
    "- Load and stack data from input directory\n",
    "- Find relevant rows for export \n",
    "    - New `callback_metadata`\n",
    "    - Status of `yes` or `neutral`\n",
    "- Export"
   ]
  },
  {
   "cell_type": "markdown",
   "metadata": {},
   "source": [
    "## Set Parameters"
   ]
  },
  {
   "cell_type": "code",
   "execution_count": 5,
   "metadata": {},
   "outputs": [],
   "source": [
    "p_date = \"061623\"\n",
    "\n",
    "p_dir_in  = \"/Users/smarshall/Desktop/projects/generative/video_captioning/hive_exports/\"\n",
    "p_dir_out = \"/Users/smarshall/Desktop/projects/generative/video_captioning/videos_to_caption/\""
   ]
  },
  {
   "cell_type": "markdown",
   "metadata": {},
   "source": [
    "## Write Processing Function"
   ]
  },
  {
   "cell_type": "code",
   "execution_count": 3,
   "metadata": {},
   "outputs": [],
   "source": [
    "def new_videos_only(input_directory, output_directory, date):\n",
    "\n",
    "    import os\n",
    "    import pandas as pd\n",
    "\n",
    "    # pull list of all filenames\n",
    "    csv_files = [file_name for file_name in os.listdir(p_dir_in) if file_name.endswith(\".csv\")]\n",
    "\n",
    "    # create list for data frames\n",
    "    dataframes = []\n",
    "\n",
    "    # laod in data frames\n",
    "    for csv_file in csv_files:\n",
    "        file_path = os.path.join(p_dir_in, csv_file)\n",
    "        df = pd.read_csv(file_path)\n",
    "        df[\"export_id\"] = os.path.splitext(csv_file)[0]\n",
    "        dataframes.append(df)\n",
    "\n",
    "    # stack data\n",
    "    stacked_files = pd.concat(dataframes, axis=0, ignore_index=True)\n",
    "\n",
    "    # count callback metadata occurences \n",
    "    stacked_files[\"callback_metadata_count\"] = stacked_files.groupby(\"callback_metadata\")[\"callback_metadata\"].transform(\"count\")\n",
    "\n",
    "    # define subset conditions\n",
    "    callback_count_1   = stacked_files[\"callback_metadata_count\"] == 1\n",
    "    status_yes_neutral = stacked_files[\"status\"].str.contains(\"yes\")| stacked_files[\"status\"].str.contains(\"neutral\")\n",
    "\n",
    "    # subset on conditions and by desired columns\n",
    "    new_videos = stacked_files[callback_count_1 & status_yes_neutral][[\"callback_metadata\", \"export_id\", \"download_url\"]]\n",
    "\n",
    "    # export \n",
    "    new_videos.to_csv(p_dir_out + \"videos_to_caption__\" + p_date + \".csv\", index=False)\n",
    "\n",
    "    # print n new videos\n",
    "    print(\"Generating CSV with \", len(new_videos), \" new videos for captioning\")"
   ]
  },
  {
   "cell_type": "markdown",
   "metadata": {},
   "source": [
    "## Run Function"
   ]
  },
  {
   "cell_type": "code",
   "execution_count": 6,
   "metadata": {},
   "outputs": [
    {
     "name": "stdout",
     "output_type": "stream",
     "text": [
      "Generating CSV with  2169  new videos for captioning\n"
     ]
    }
   ],
   "source": [
    "new_videos_only(p_dir_in, p_dir_out, p_dir_in)"
   ]
  }
 ],
 "metadata": {
  "kernelspec": {
   "display_name": "Python 3.9.13 ('base')",
   "language": "python",
   "name": "python3"
  },
  "language_info": {
   "codemirror_mode": {
    "name": "ipython",
    "version": 3
   },
   "file_extension": ".py",
   "mimetype": "text/x-python",
   "name": "python",
   "nbconvert_exporter": "python",
   "pygments_lexer": "ipython3",
   "version": "3.9.13"
  },
  "orig_nbformat": 4,
  "vscode": {
   "interpreter": {
    "hash": "f1c1330ec74797889e3b8da19626bdee489d8b37b1aa708be81ccfe372e7618b"
   }
  }
 },
 "nbformat": 4,
 "nbformat_minor": 2
}
