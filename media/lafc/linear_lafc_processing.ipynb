{
 "cells": [
  {
   "cell_type": "markdown",
   "metadata": {},
   "source": [
    "# Linear LAFC Processing"
   ]
  },
  {
   "cell_type": "code",
   "execution_count": 2,
   "metadata": {},
   "outputs": [],
   "source": [
    "p_directory = \"/Users/smarshall/Desktop/projects/media/lafc/linear/\"\n",
    "\n",
    "p_batch = \"batch5\""
   ]
  },
  {
   "cell_type": "markdown",
   "metadata": {},
   "source": [
    "## Pre-Processing\n",
    "- Load raw CSV from Media\n",
    "- Attach load location for ease of access / reporting \n",
    "- Split CSV by load location \n",
    "- Randomize and export\n",
    "- Display job loads for Cristen"
   ]
  },
  {
   "cell_type": "code",
   "execution_count": 17,
   "metadata": {},
   "outputs": [],
   "source": [
    "import pandas as pd\n",
    "\n",
    "raw_media = pd.read_csv(p_directory + \"stacked_data/linear_lafc__\" + p_batch + \".csv\")"
   ]
  },
  {
   "cell_type": "code",
   "execution_count": 18,
   "metadata": {},
   "outputs": [],
   "source": [
    "import numpy as np\n",
    "\n",
    "raw_media['load_location'] = np.where(raw_media['Job'] == 1, 'multiclass', 'bmo_binary')"
   ]
  },
  {
   "cell_type": "code",
   "execution_count": 19,
   "metadata": {},
   "outputs": [],
   "source": [
    "bmo_binary = raw_media[(raw_media.load_location == \"bmo_binary\")]\n",
    "multiclass = raw_media[(raw_media.load_location == \"multiclass\")]"
   ]
  },
  {
   "cell_type": "code",
   "execution_count": 13,
   "metadata": {},
   "outputs": [],
   "source": [
    "bmo_binary.sample(frac=1).to_csv(p_directory + \"split_data/linear_lafc__\" + p_batch + \"__binaryTEST.csv\", index=False)\n",
    "multiclass.sample(frac=1).to_csv(p_directory + \"split_data/linear_lafc__\" + p_batch + \"__multiclassTEST.csv\", index=False)"
   ]
  },
  {
   "cell_type": "code",
   "execution_count": 20,
   "metadata": {},
   "outputs": [
    {
     "data": {
      "text/plain": [
       "multiclass    1178\n",
       "bmo_binary     791\n",
       "Name: load_location, dtype: int64"
      ]
     },
     "execution_count": 20,
     "metadata": {},
     "output_type": "execute_result"
    }
   ],
   "source": [
    "raw_media.load_location.value_counts()"
   ]
  },
  {
   "cell_type": "markdown",
   "metadata": {},
   "source": [
    "## Post-Processing\n",
    "- Read in exports from Hive\n",
    "- Attach `job_id` column \n",
    "- Stack results together \n",
    "- Subset and export"
   ]
  },
  {
   "cell_type": "code",
   "execution_count": null,
   "metadata": {},
   "outputs": [],
   "source": [
    "import pandas as pd\n",
    "\n",
    "multiclass_export = pd.read_csv(p_directory + \"hive_exports/linear_lafc__\" + p_batch + \"__multiclass_export.csv\")\n",
    "bmo_binary_export = pd.read_csv(p_directory + \"hive_exports/linear_lafc__\" + p_batch + \"__bmo_binary_export.csv\")"
   ]
  },
  {
   "cell_type": "code",
   "execution_count": null,
   "metadata": {},
   "outputs": [],
   "source": [
    "# attach job_id\n",
    "multiclass_export[\"job_id\"] = 1\n",
    "bmo_binary_export[\"job_id\"] = 2\n",
    "\n",
    "# stack results\n",
    "stacked_results = pd.concat([multiclass_export, bmo_binary_export], ignore_index=True, axis=0)"
   ]
  },
  {
   "cell_type": "code",
   "execution_count": null,
   "metadata": {},
   "outputs": [],
   "source": [
    "# subset and export \n",
    "stacked_results[[\"callback_metadata\", \"image_url\", \"job_id\", \"status\"]].to_csv(p_directory + \"stacked_data/linear_lafc__\" + p_batch + \"__labeled.csv\")"
   ]
  }
 ],
 "metadata": {
  "kernelspec": {
   "display_name": "Python 3.9.16 ('myenv')",
   "language": "python",
   "name": "python3"
  },
  "language_info": {
   "codemirror_mode": {
    "name": "ipython",
    "version": 3
   },
   "file_extension": ".py",
   "mimetype": "text/x-python",
   "name": "python",
   "nbconvert_exporter": "python",
   "pygments_lexer": "ipython3",
   "version": "3.9.16"
  },
  "orig_nbformat": 4,
  "vscode": {
   "interpreter": {
    "hash": "76f9106888fdea9b9746ebdcad75a9e6c77c3a3be0693dfd991ee73141d12194"
   }
  }
 },
 "nbformat": 4,
 "nbformat_minor": 2
}
