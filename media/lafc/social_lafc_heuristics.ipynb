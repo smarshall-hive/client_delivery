{
 "cells": [
  {
   "cell_type": "markdown",
   "metadata": {},
   "source": [
    "# LAFC Post Processing\n",
    "- Sanitze Export\n",
    "- Run Heuristics\n",
    "    - NE Corner vs. Awning\n",
    "    - LED Field vs. Goal\n",
    "    - Cleanup\n",
    "- Generate Delivery"
   ]
  },
  {
   "cell_type": "markdown",
   "metadata": {},
   "source": [
    "## Prepare Export for Heuristics"
   ]
  },
  {
   "cell_type": "code",
   "execution_count": 31,
   "metadata": {},
   "outputs": [],
   "source": [
    "p_directory = \"/Users/smarshall/Desktop/projects/media/lafc/social/\"\n",
    "\n",
    "p_batch = \"batch7\" \n",
    "\n",
    "# rand update"
   ]
  },
  {
   "cell_type": "code",
   "execution_count": 32,
   "metadata": {},
   "outputs": [],
   "source": [
    "import pandas as pd \n",
    "\n",
    "led_truth_table = pd.read_csv(p_directory + \"/reference_tables/led_truth_table.csv\")\n",
    "\n",
    "uploaded    = pd.read_csv(p_directory + \"/loaded/lafc__\" + p_batch + \".csv\")\n",
    "hive_export = pd.read_csv(p_directory + \"hive_export/lafc__\" + p_batch + \"__hive.csv\")"
   ]
  },
  {
   "cell_type": "code",
   "execution_count": 42,
   "metadata": {},
   "outputs": [
    {
     "name": "stderr",
     "output_type": "stream",
     "text": [
      "/var/folders/7b/v9mp272d6r307r39j898yhnh0000gp/T/ipykernel_30519/3175749204.py:12: FutureWarning: The default value of regex will change from True to False in a future version.\n",
      "  results_with_brand[\"status\"] = results_with_brand[\"status\"].str.replace(\"\\W\", \"\")\n"
     ]
    }
   ],
   "source": [
    "# subset to relevant columns \n",
    "sub_export   = hive_export[[\"callback_metadata\", \"image_url\", \"status\"]]\n",
    "sub_uploaded = uploaded[[\"callback_metadata\", \"media_brand\"]]\n",
    "\n",
    "# merge brands into export\n",
    "results_with_brand = sub_export.merge(sub_uploaded, on=\"callback_metadata\")\n",
    "\n",
    "# rename for consistency\n",
    "results_with_brand.columns = [\"callback_metadata\", \"frame_url\", \"status\", \"brand\"]\n",
    "\n",
    "# sanitize status\n",
    "results_with_brand[\"status\"] = results_with_brand[\"status\"].str.replace(\"\\W\", \"\")"
   ]
  },
  {
   "cell_type": "code",
   "execution_count": 52,
   "metadata": {},
   "outputs": [],
   "source": [
    "# pull brands that should only be LED field\n",
    "led_field_brands = led_truth_table[(led_truth_table.led_field == \"yes\") & (led_truth_table.led_goal == \"no\")][\"brand\"]\n",
    "\n",
    "# pull valid LED goal brands\n",
    "led_goal_brands = led_truth_table[(led_truth_table.led_goal == \"yes\")][\"brand\"]\n",
    "\n",
    "# pull toss up brands \n",
    "led_toss_up = led_truth_table[(led_truth_table.led_field == \"yes\") & (led_truth_table.led_goal == \"yes\")][\"brand\"]"
   ]
  },
  {
   "cell_type": "markdown",
   "metadata": {},
   "source": [
    "## Run Heuristics"
   ]
  },
  {
   "cell_type": "code",
   "execution_count": 63,
   "metadata": {},
   "outputs": [
    {
     "data": {
      "text/html": [
       "<div>\n",
       "<style scoped>\n",
       "    .dataframe tbody tr th:only-of-type {\n",
       "        vertical-align: middle;\n",
       "    }\n",
       "\n",
       "    .dataframe tbody tr th {\n",
       "        vertical-align: top;\n",
       "    }\n",
       "\n",
       "    .dataframe thead th {\n",
       "        text-align: right;\n",
       "    }\n",
       "</style>\n",
       "<table border=\"1\" class=\"dataframe\">\n",
       "  <thead>\n",
       "    <tr style=\"text-align: right;\">\n",
       "      <th></th>\n",
       "      <th>callback_metadata</th>\n",
       "      <th>frame_url</th>\n",
       "      <th>status</th>\n",
       "      <th>brand</th>\n",
       "    </tr>\n",
       "  </thead>\n",
       "  <tbody>\n",
       "  </tbody>\n",
       "</table>\n",
       "</div>"
      ],
      "text/plain": [
       "Empty DataFrame\n",
       "Columns: [callback_metadata, frame_url, status, brand]\n",
       "Index: []"
      ]
     },
     "execution_count": 63,
     "metadata": {},
     "output_type": "execute_result"
    }
   ],
   "source": [
    "import numpy as np \n",
    "\n",
    "# heuristics_dt[\"new_status\"] = np.where((heuristics_dt[\"status\"] in [\"ne_corner\", \"awning\"]) & (heuristics_dt[\"brand\"] == \"Toyota\"), \"awning\")\n",
    "\n",
    "# raw_media[\"load_loaction\"] = raw_media[\"asset_type\"].apply(lambda x: \"multiclass\" if x in unknown_asset_types else \"pipeline\")\n",
    "\n",
    "\n",
    "# pipeline_export['delivery_status'] = np.where((pipeline_export['binary_status'] == 'yes'), \n",
    "#                                                pipeline_export['label_data_status'],\n",
    "#                                                pipeline_export['multiclass_status'])"
   ]
  }
 ],
 "metadata": {
  "kernelspec": {
   "display_name": "Python 3.9.13 ('base')",
   "language": "python",
   "name": "python3"
  },
  "language_info": {
   "codemirror_mode": {
    "name": "ipython",
    "version": 3
   },
   "file_extension": ".py",
   "mimetype": "text/x-python",
   "name": "python",
   "nbconvert_exporter": "python",
   "pygments_lexer": "ipython3",
   "version": "3.9.13"
  },
  "orig_nbformat": 4,
  "vscode": {
   "interpreter": {
    "hash": "f1c1330ec74797889e3b8da19626bdee489d8b37b1aa708be81ccfe372e7618b"
   }
  }
 },
 "nbformat": 4,
 "nbformat_minor": 2
}
